{
  "nbformat": 4,
  "nbformat_minor": 0,
  "metadata": {
    "accelerator": "GPU",
    "colab": {
      "provenance": [],
      "collapsed_sections": []
    },
    "kernelspec": {
      "display_name": "Python 3",
      "language": "python",
      "name": "python3"
    },
    "language_info": {
      "codemirror_mode": {
        "name": "ipython",
        "version": 3
      },
      "file_extension": ".py",
      "mimetype": "text/x-python",
      "name": "python",
      "nbconvert_exporter": "python",
      "pygments_lexer": "ipython3",
      "version": "3.6.0"
    }
  },
  "cells": [
    {
      "cell_type": "markdown",
      "metadata": {
        "id": "6H3ATAdp_URp"
      },
      "source": [
        "# Google Quick draw Clone\n",
        "Quick Draw - A Google Doodle Recognition Clone"
      ]
    },
    {
      "cell_type": "markdown",
      "metadata": {
        "id": "zlx6-LFL_jbi"
      },
      "source": [
        "This file contains a subset of the quick draw classes. I choose around 100 classes from the dataset. "
      ]
    },
    {
      "cell_type": "code",
      "metadata": {
        "id": "XXv-xzU1sd88",
        "colab": {
          "base_uri": "https://localhost:8080/"
        },
        "outputId": "af3309ef-e67e-4b86-9005-375c863d7019"
      },
      "source": [
        "!wget 'https://raw.githubusercontent.com/zaidalyafeai/zaidalyafeai.github.io/master/sketcher/mini_classes.txt'"
      ],
      "execution_count": 1,
      "outputs": [
        {
          "output_type": "stream",
          "name": "stdout",
          "text": [
            "--2022-10-23 12:58:13--  https://raw.githubusercontent.com/zaidalyafeai/zaidalyafeai.github.io/master/sketcher/mini_classes.txt\n",
            "Resolving raw.githubusercontent.com (raw.githubusercontent.com)... 185.199.108.133, 185.199.109.133, 185.199.110.133, ...\n",
            "Connecting to raw.githubusercontent.com (raw.githubusercontent.com)|185.199.108.133|:443... connected.\n",
            "HTTP request sent, awaiting response... 200 OK\n",
            "Length: 760 [text/plain]\n",
            "Saving to: ‘mini_classes.txt’\n",
            "\n",
            "\rmini_classes.txt      0%[                    ]       0  --.-KB/s               \rmini_classes.txt    100%[===================>]     760  --.-KB/s    in 0s      \n",
            "\n",
            "2022-10-23 12:58:13 (30.3 MB/s) - ‘mini_classes.txt’ saved [760/760]\n",
            "\n"
          ]
        }
      ]
    },
    {
      "cell_type": "markdown",
      "metadata": {
        "id": "4GL_TdMffD6-"
      },
      "source": [
        "Read the classes names "
      ]
    },
    {
      "cell_type": "code",
      "metadata": {
        "id": "eP-OxOx5sy0b"
      },
      "source": [
        "f = open(\"mini_classes.txt\",\"r\")\n",
        "# And for reading use\n",
        "classes = f.readlines()\n",
        "f.close()"
      ],
      "execution_count": 2,
      "outputs": []
    },
    {
      "cell_type": "code",
      "metadata": {
        "id": "lTE6D3uxtMc5"
      },
      "source": [
        "classes = [c.replace('\\n','').replace(' ','_') for c in classes]"
      ],
      "execution_count": 3,
      "outputs": []
    },
    {
      "cell_type": "markdown",
      "metadata": {
        "id": "5NDfBHVjACAt"
      },
      "source": [
        "# Download the Dataset "
      ]
    },
    {
      "cell_type": "markdown",
      "metadata": {
        "id": "7MC_PUS-fKjH"
      },
      "source": [
        "Loop over the classes and download the currospondent data"
      ]
    },
    {
      "cell_type": "code",
      "metadata": {
        "id": "rdSUnpL0u22Q"
      },
      "source": [
        "!mkdir data"
      ],
      "execution_count": 4,
      "outputs": []
    },
    {
      "cell_type": "code",
      "metadata": {
        "id": "22DPhL5FtWcQ"
      },
      "source": [
        "import urllib.request\n",
        "def download():\n",
        "    base = 'https://storage.googleapis.com/quickdraw_dataset/full/numpy_bitmap/'\n",
        "    for c in classes:        \n",
        "        cls_url = c.replace('_', '%20')\n",
        "        path = base+cls_url+'.npy'\n",
        "        print(path)\n",
        "        urllib.request.urlretrieve(path, 'data/'+c+'.npy')"
      ],
      "execution_count": 5,
      "outputs": []
    },
    {
      "cell_type": "code",
      "metadata": {
        "id": "O5jF6TXXu-Bu",
        "colab": {
          "base_uri": "https://localhost:8080/"
        },
        "outputId": "4da7369c-222f-49f9-d80e-37894e00f66f"
      },
      "source": [
        "download()"
      ],
      "execution_count": 6,
      "outputs": [
        {
          "output_type": "stream",
          "name": "stdout",
          "text": [
            "https://storage.googleapis.com/quickdraw_dataset/full/numpy_bitmap/drums.npy\n",
            "https://storage.googleapis.com/quickdraw_dataset/full/numpy_bitmap/sun.npy\n",
            "https://storage.googleapis.com/quickdraw_dataset/full/numpy_bitmap/laptop.npy\n",
            "https://storage.googleapis.com/quickdraw_dataset/full/numpy_bitmap/anvil.npy\n",
            "https://storage.googleapis.com/quickdraw_dataset/full/numpy_bitmap/baseball%20bat.npy\n",
            "https://storage.googleapis.com/quickdraw_dataset/full/numpy_bitmap/ladder.npy\n",
            "https://storage.googleapis.com/quickdraw_dataset/full/numpy_bitmap/eyeglasses.npy\n",
            "https://storage.googleapis.com/quickdraw_dataset/full/numpy_bitmap/grapes.npy\n",
            "https://storage.googleapis.com/quickdraw_dataset/full/numpy_bitmap/book.npy\n",
            "https://storage.googleapis.com/quickdraw_dataset/full/numpy_bitmap/dumbbell.npy\n",
            "https://storage.googleapis.com/quickdraw_dataset/full/numpy_bitmap/traffic%20light.npy\n",
            "https://storage.googleapis.com/quickdraw_dataset/full/numpy_bitmap/wristwatch.npy\n",
            "https://storage.googleapis.com/quickdraw_dataset/full/numpy_bitmap/wheel.npy\n",
            "https://storage.googleapis.com/quickdraw_dataset/full/numpy_bitmap/shovel.npy\n",
            "https://storage.googleapis.com/quickdraw_dataset/full/numpy_bitmap/bread.npy\n",
            "https://storage.googleapis.com/quickdraw_dataset/full/numpy_bitmap/table.npy\n",
            "https://storage.googleapis.com/quickdraw_dataset/full/numpy_bitmap/tennis%20racquet.npy\n",
            "https://storage.googleapis.com/quickdraw_dataset/full/numpy_bitmap/cloud.npy\n",
            "https://storage.googleapis.com/quickdraw_dataset/full/numpy_bitmap/chair.npy\n",
            "https://storage.googleapis.com/quickdraw_dataset/full/numpy_bitmap/headphones.npy\n",
            "https://storage.googleapis.com/quickdraw_dataset/full/numpy_bitmap/face.npy\n",
            "https://storage.googleapis.com/quickdraw_dataset/full/numpy_bitmap/eye.npy\n",
            "https://storage.googleapis.com/quickdraw_dataset/full/numpy_bitmap/airplane.npy\n",
            "https://storage.googleapis.com/quickdraw_dataset/full/numpy_bitmap/snake.npy\n",
            "https://storage.googleapis.com/quickdraw_dataset/full/numpy_bitmap/lollipop.npy\n",
            "https://storage.googleapis.com/quickdraw_dataset/full/numpy_bitmap/power%20outlet.npy\n",
            "https://storage.googleapis.com/quickdraw_dataset/full/numpy_bitmap/pants.npy\n",
            "https://storage.googleapis.com/quickdraw_dataset/full/numpy_bitmap/mushroom.npy\n",
            "https://storage.googleapis.com/quickdraw_dataset/full/numpy_bitmap/star.npy\n",
            "https://storage.googleapis.com/quickdraw_dataset/full/numpy_bitmap/sword.npy\n",
            "https://storage.googleapis.com/quickdraw_dataset/full/numpy_bitmap/clock.npy\n",
            "https://storage.googleapis.com/quickdraw_dataset/full/numpy_bitmap/hot%20dog.npy\n",
            "https://storage.googleapis.com/quickdraw_dataset/full/numpy_bitmap/syringe.npy\n",
            "https://storage.googleapis.com/quickdraw_dataset/full/numpy_bitmap/stop%20sign.npy\n",
            "https://storage.googleapis.com/quickdraw_dataset/full/numpy_bitmap/mountain.npy\n",
            "https://storage.googleapis.com/quickdraw_dataset/full/numpy_bitmap/smiley%20face.npy\n",
            "https://storage.googleapis.com/quickdraw_dataset/full/numpy_bitmap/apple.npy\n",
            "https://storage.googleapis.com/quickdraw_dataset/full/numpy_bitmap/bed.npy\n",
            "https://storage.googleapis.com/quickdraw_dataset/full/numpy_bitmap/shorts.npy\n",
            "https://storage.googleapis.com/quickdraw_dataset/full/numpy_bitmap/broom.npy\n",
            "https://storage.googleapis.com/quickdraw_dataset/full/numpy_bitmap/diving%20board.npy\n",
            "https://storage.googleapis.com/quickdraw_dataset/full/numpy_bitmap/flower.npy\n",
            "https://storage.googleapis.com/quickdraw_dataset/full/numpy_bitmap/spider.npy\n",
            "https://storage.googleapis.com/quickdraw_dataset/full/numpy_bitmap/cell%20phone.npy\n",
            "https://storage.googleapis.com/quickdraw_dataset/full/numpy_bitmap/car.npy\n",
            "https://storage.googleapis.com/quickdraw_dataset/full/numpy_bitmap/camera.npy\n",
            "https://storage.googleapis.com/quickdraw_dataset/full/numpy_bitmap/tree.npy\n",
            "https://storage.googleapis.com/quickdraw_dataset/full/numpy_bitmap/square.npy\n",
            "https://storage.googleapis.com/quickdraw_dataset/full/numpy_bitmap/moon.npy\n",
            "https://storage.googleapis.com/quickdraw_dataset/full/numpy_bitmap/radio.npy\n",
            "https://storage.googleapis.com/quickdraw_dataset/full/numpy_bitmap/hat.npy\n",
            "https://storage.googleapis.com/quickdraw_dataset/full/numpy_bitmap/pizza.npy\n",
            "https://storage.googleapis.com/quickdraw_dataset/full/numpy_bitmap/axe.npy\n",
            "https://storage.googleapis.com/quickdraw_dataset/full/numpy_bitmap/door.npy\n",
            "https://storage.googleapis.com/quickdraw_dataset/full/numpy_bitmap/tent.npy\n",
            "https://storage.googleapis.com/quickdraw_dataset/full/numpy_bitmap/umbrella.npy\n",
            "https://storage.googleapis.com/quickdraw_dataset/full/numpy_bitmap/line.npy\n",
            "https://storage.googleapis.com/quickdraw_dataset/full/numpy_bitmap/cup.npy\n",
            "https://storage.googleapis.com/quickdraw_dataset/full/numpy_bitmap/fan.npy\n",
            "https://storage.googleapis.com/quickdraw_dataset/full/numpy_bitmap/triangle.npy\n",
            "https://storage.googleapis.com/quickdraw_dataset/full/numpy_bitmap/basketball.npy\n",
            "https://storage.googleapis.com/quickdraw_dataset/full/numpy_bitmap/pillow.npy\n",
            "https://storage.googleapis.com/quickdraw_dataset/full/numpy_bitmap/scissors.npy\n",
            "https://storage.googleapis.com/quickdraw_dataset/full/numpy_bitmap/t-shirt.npy\n",
            "https://storage.googleapis.com/quickdraw_dataset/full/numpy_bitmap/tooth.npy\n",
            "https://storage.googleapis.com/quickdraw_dataset/full/numpy_bitmap/alarm%20clock.npy\n",
            "https://storage.googleapis.com/quickdraw_dataset/full/numpy_bitmap/paper%20clip.npy\n",
            "https://storage.googleapis.com/quickdraw_dataset/full/numpy_bitmap/spoon.npy\n",
            "https://storage.googleapis.com/quickdraw_dataset/full/numpy_bitmap/microphone.npy\n",
            "https://storage.googleapis.com/quickdraw_dataset/full/numpy_bitmap/candle.npy\n",
            "https://storage.googleapis.com/quickdraw_dataset/full/numpy_bitmap/pencil.npy\n",
            "https://storage.googleapis.com/quickdraw_dataset/full/numpy_bitmap/envelope.npy\n",
            "https://storage.googleapis.com/quickdraw_dataset/full/numpy_bitmap/saw.npy\n",
            "https://storage.googleapis.com/quickdraw_dataset/full/numpy_bitmap/frying%20pan.npy\n",
            "https://storage.googleapis.com/quickdraw_dataset/full/numpy_bitmap/screwdriver.npy\n",
            "https://storage.googleapis.com/quickdraw_dataset/full/numpy_bitmap/helmet.npy\n",
            "https://storage.googleapis.com/quickdraw_dataset/full/numpy_bitmap/bridge.npy\n",
            "https://storage.googleapis.com/quickdraw_dataset/full/numpy_bitmap/light%20bulb.npy\n",
            "https://storage.googleapis.com/quickdraw_dataset/full/numpy_bitmap/ceiling%20fan.npy\n",
            "https://storage.googleapis.com/quickdraw_dataset/full/numpy_bitmap/key.npy\n",
            "https://storage.googleapis.com/quickdraw_dataset/full/numpy_bitmap/donut.npy\n",
            "https://storage.googleapis.com/quickdraw_dataset/full/numpy_bitmap/bird.npy\n",
            "https://storage.googleapis.com/quickdraw_dataset/full/numpy_bitmap/circle.npy\n",
            "https://storage.googleapis.com/quickdraw_dataset/full/numpy_bitmap/beard.npy\n",
            "https://storage.googleapis.com/quickdraw_dataset/full/numpy_bitmap/coffee%20cup.npy\n",
            "https://storage.googleapis.com/quickdraw_dataset/full/numpy_bitmap/butterfly.npy\n",
            "https://storage.googleapis.com/quickdraw_dataset/full/numpy_bitmap/bench.npy\n",
            "https://storage.googleapis.com/quickdraw_dataset/full/numpy_bitmap/rifle.npy\n",
            "https://storage.googleapis.com/quickdraw_dataset/full/numpy_bitmap/cat.npy\n",
            "https://storage.googleapis.com/quickdraw_dataset/full/numpy_bitmap/sock.npy\n",
            "https://storage.googleapis.com/quickdraw_dataset/full/numpy_bitmap/ice%20cream.npy\n",
            "https://storage.googleapis.com/quickdraw_dataset/full/numpy_bitmap/moustache.npy\n",
            "https://storage.googleapis.com/quickdraw_dataset/full/numpy_bitmap/suitcase.npy\n",
            "https://storage.googleapis.com/quickdraw_dataset/full/numpy_bitmap/hammer.npy\n",
            "https://storage.googleapis.com/quickdraw_dataset/full/numpy_bitmap/rainbow.npy\n",
            "https://storage.googleapis.com/quickdraw_dataset/full/numpy_bitmap/knife.npy\n",
            "https://storage.googleapis.com/quickdraw_dataset/full/numpy_bitmap/cookie.npy\n",
            "https://storage.googleapis.com/quickdraw_dataset/full/numpy_bitmap/baseball.npy\n",
            "https://storage.googleapis.com/quickdraw_dataset/full/numpy_bitmap/lightning.npy\n",
            "https://storage.googleapis.com/quickdraw_dataset/full/numpy_bitmap/bicycle.npy\n"
          ]
        }
      ]
    },
    {
      "cell_type": "markdown",
      "metadata": {
        "id": "uEdnbBVXAI-X"
      },
      "source": [
        "# Imports "
      ]
    },
    {
      "cell_type": "code",
      "metadata": {
        "id": "J2FYrPgOKh6t",
        "colab": {
          "base_uri": "https://localhost:8080/"
        },
        "outputId": "2d5a9045-bd41-42e4-fb8c-8cc18c4a39d0"
      },
      "source": [
        "import os\n",
        "import glob\n",
        "import numpy as np\n",
        "from tensorflow.python.keras import layers\n",
        "from tensorflow import keras \n",
        "import tensorflow as tf\n",
        "\n",
        "print(len(os.listdir('data')))"
      ],
      "execution_count": 7,
      "outputs": [
        {
          "output_type": "stream",
          "name": "stdout",
          "text": [
            "100\n"
          ]
        }
      ]
    },
    {
      "cell_type": "markdown",
      "metadata": {
        "id": "6o30ipBPAQ5Y"
      },
      "source": [
        "# Load the Data "
      ]
    },
    {
      "cell_type": "markdown",
      "metadata": {
        "id": "UBq3GXEKAYuO"
      },
      "source": [
        "Each class contains different number samples of arrays stored as .npy format. Since we have some memory limitations we only load 5000 images per class.  "
      ]
    },
    {
      "cell_type": "code",
      "metadata": {
        "id": "6HEIgQNHYQnl"
      },
      "source": [
        "def load_data(root, vfold_ratio=0.2, max_items_per_class= 4000 ):\n",
        "    all_files = glob.glob(os.path.join(root, '*.npy'))\n",
        "\n",
        "    #initialize variables \n",
        "    x = np.empty([0, 784])\n",
        "    y = np.empty([0])\n",
        "    class_names = []\n",
        "\n",
        "    #load each data file \n",
        "    for idx, file in enumerate(all_files):\n",
        "        data = np.load(file)\n",
        "        data = data[0: max_items_per_class, :]\n",
        "        labels = np.full(data.shape[0], idx)\n",
        "\n",
        "        x = np.concatenate((x, data), axis=0)\n",
        "        y = np.append(y, labels)\n",
        "\n",
        "        class_name, ext = os.path.splitext(os.path.basename(file))\n",
        "        class_names.append(class_name)\n",
        "\n",
        "    data = None\n",
        "    labels = None\n",
        "    \n",
        "    #randomize the dataset \n",
        "    permutation = np.random.permutation(y.shape[0])\n",
        "    x = x[permutation, :]\n",
        "    y = y[permutation]\n",
        "\n",
        "    #separate into training and testing \n",
        "    vfold_size = int(x.shape[0]/100*(vfold_ratio*100))\n",
        "\n",
        "    x_test = x[0:vfold_size, :]\n",
        "    y_test = y[0:vfold_size]\n",
        "\n",
        "    x_train = x[vfold_size:x.shape[0], :]\n",
        "    y_train = y[vfold_size:y.shape[0]]\n",
        "    return x_train, y_train, x_test, y_test, class_names"
      ],
      "execution_count": 8,
      "outputs": []
    },
    {
      "cell_type": "code",
      "metadata": {
        "id": "K6uUjN-WL2Y9"
      },
      "source": [
        "x_train, y_train, x_test, y_test, class_names = load_data('data')\n",
        "num_classes = len(class_names)\n",
        "image_size = 28"
      ],
      "execution_count": 9,
      "outputs": []
    },
    {
      "cell_type": "code",
      "metadata": {
        "id": "VhGEDS0SMgLK",
        "colab": {
          "base_uri": "https://localhost:8080/"
        },
        "outputId": "18c8ef57-0240-4f91-9c53-0b0680dc368b"
      },
      "source": [
        "print(len(x_train))"
      ],
      "execution_count": 10,
      "outputs": [
        {
          "output_type": "stream",
          "name": "stdout",
          "text": [
            "320000\n"
          ]
        }
      ]
    },
    {
      "cell_type": "markdown",
      "metadata": {
        "id": "rNZmQvBWBBHE"
      },
      "source": [
        "Show some random data "
      ]
    },
    {
      "cell_type": "code",
      "metadata": {
        "id": "KfpDaHRkyMQC",
        "colab": {
          "base_uri": "https://localhost:8080/",
          "height": 282
        },
        "outputId": "74e727aa-3d85-4ef4-fa14-33d9363a72ef"
      },
      "source": [
        "import matplotlib.pyplot as plt\n",
        "from random import randint\n",
        "%matplotlib inline  \n",
        "idx = randint(0, len(x_train))\n",
        "plt.imshow(x_train[idx].reshape(28,28)) \n",
        "print(class_names[int(y_train[idx].item())])"
      ],
      "execution_count": 11,
      "outputs": [
        {
          "output_type": "stream",
          "name": "stdout",
          "text": [
            "hammer\n"
          ]
        },
        {
          "output_type": "display_data",
          "data": {
            "text/plain": [
              "<Figure size 432x288 with 1 Axes>"
            ],
            "image/png": "[encoded data removed]"
          },
          "metadata": {
            "needs_background": "light"
          }
        }
      ]
    },
    {
      "cell_type": "markdown",
      "metadata": {
        "id": "n8InHz5NBFrV"
      },
      "source": [
        "# Preprocess the Data "
      ]
    },
    {
      "cell_type": "code",
      "metadata": {
        "id": "p2GHUq7D2r9e"
      },
      "source": [
        "# Reshape and normalize\n",
        "x_train = x_train.reshape(x_train.shape[0], image_size, image_size, 1).astype('float32')\n",
        "x_test = x_test.reshape(x_test.shape[0], image_size, image_size, 1).astype('float32')\n",
        "\n",
        "x_train /= 255.0\n",
        "x_test /= 255.0\n",
        "\n",
        "# Convert class vectors to class matrices\n",
        "y_train = keras.utils.to_categorical(y_train, num_classes)\n",
        "y_test = keras.utils.to_categorical(y_test, num_classes)"
      ],
      "execution_count": 12,
      "outputs": []
    },
    {
      "cell_type": "markdown",
      "metadata": {
        "id": "rL6XAb4hBMSc"
      },
      "source": [
        "# The Model "
      ]
    },
    {
      "cell_type": "code",
      "metadata": {
        "id": "uYUVV2wf2z8H"
      },
      "source": [
        "# Define model\n",
        "model = keras.Sequential()\n",
        "model.add(layers.Convolution2D(16, (3, 3),\n",
        "                        padding='same',\n",
        "                        input_shape=x_train.shape[1:], activation='relu'))\n",
        "model.add(layers.MaxPooling2D(pool_size=(2, 2)))\n",
        "model.add(layers.Convolution2D(32, (3, 3), padding='same', activation= 'relu'))\n",
        "model.add(layers.MaxPooling2D(pool_size=(2, 2)))\n",
        "model.add(layers.Convolution2D(64, (3, 3), padding='same', activation= 'relu'))\n",
        "model.add(layers.MaxPooling2D(pool_size =(2,2)))\n",
        "model.add(layers.Flatten())\n",
        "model.add(layers.Dense(128, activation='relu'))\n",
        "model.add(layers.Dense(100, activation='softmax')) \n",
        "# Train model\n",
        "adam = tf.optimizers.Adam()\n",
        "model.compile(loss='categorical_crossentropy',\n",
        "              optimizer=adam,\n",
        "              metrics=['top_k_categorical_accuracy'])\n",
        "#print(model.summary())"
      ],
      "execution_count": 17,
      "outputs": []
    },
    {
      "cell_type": "markdown",
      "metadata": {
        "id": "_YRSRkOyBP1P"
      },
      "source": [
        "# Training "
      ]
    },
    {
      "cell_type": "code",
      "metadata": {
        "id": "7OMEJ7kF3lsP",
        "colab": {
          "base_uri": "https://localhost:8080/"
        },
        "outputId": "3a0b072d-8dcd-4db0-aebc-3470ae834c7c"
      },
      "source": [
        "model.fit(x = x_train, y = y_train, validation_split=0.1, batch_size = 256, verbose=2, epochs=5)"
      ],
      "execution_count": 18,
      "outputs": [
        {
          "output_type": "stream",
          "name": "stdout",
          "text": [
            "Epoch 1/5\n",
            "1125/1125 - 33s - loss: 1.9596 - top_k_categorical_accuracy: 0.7755 - val_loss: 1.3835 - val_top_k_categorical_accuracy: 0.8770 - 33s/epoch - 30ms/step\n",
            "Epoch 2/5\n",
            "1125/1125 - 9s - loss: 1.2520 - top_k_categorical_accuracy: 0.8923 - val_loss: 1.1715 - val_top_k_categorical_accuracy: 0.9000 - 9s/epoch - 8ms/step\n",
            "Epoch 3/5\n",
            "1125/1125 - 13s - loss: 1.0886 - top_k_categorical_accuracy: 0.9095 - val_loss: 1.0707 - val_top_k_categorical_accuracy: 0.9133 - 13s/epoch - 11ms/step\n",
            "Epoch 4/5\n",
            "1125/1125 - 9s - loss: 1.0008 - top_k_categorical_accuracy: 0.9186 - val_loss: 1.0049 - val_top_k_categorical_accuracy: 0.9177 - 9s/epoch - 8ms/step\n",
            "Epoch 5/5\n",
            "1125/1125 - 6s - loss: 0.9410 - top_k_categorical_accuracy: 0.9247 - val_loss: 0.9658 - val_top_k_categorical_accuracy: 0.9216 - 6s/epoch - 6ms/step\n"
          ]
        },
        {
          "output_type": "execute_result",
          "data": {
            "text/plain": [
              "<keras.callbacks.History at 0x7f85efafbe90>"
            ]
          },
          "metadata": {},
          "execution_count": 18
        }
      ]
    },
    {
      "cell_type": "markdown",
      "metadata": {
        "id": "d2KztY7qEn9_"
      },
      "source": [
        "# Testing "
      ]
    },
    {
      "cell_type": "code",
      "metadata": {
        "id": "ssaZczS7DxeA",
        "colab": {
          "base_uri": "https://localhost:8080/"
        },
        "outputId": "222b8252-2d6a-4ad6-8247-3e70f5276300"
      },
      "source": [
        "score = model.evaluate(x_test, y_test, verbose=0)\n",
        "print('Test accuarcy: {:0.2f}%'.format(score[1] * 100))"
      ],
      "execution_count": 19,
      "outputs": [
        {
          "output_type": "stream",
          "name": "stdout",
          "text": [
            "Test accuarcy: 92.26%\n"
          ]
        }
      ]
    },
    {
      "cell_type": "markdown",
      "metadata": {
        "id": "9xBM_w0VBbNr"
      },
      "source": [
        "# Inference "
      ]
    },
    {
      "cell_type": "code",
      "metadata": {
        "id": "nH3JfoiYHdpk",
        "colab": {
          "base_uri": "https://localhost:8080/",
          "height": 282
        },
        "outputId": "4a5e2505-3f15-4a93-cf77-588d722b41fa"
      },
      "source": [
        "import matplotlib.pyplot as plt\n",
        "from random import randint\n",
        "%matplotlib inline  \n",
        "idx = randint(0, len(x_test))\n",
        "img = x_test[idx]\n",
        "plt.imshow(img.squeeze()) "
      ],
      "execution_count": 20,
      "outputs": [
        {
          "output_type": "execute_result",
          "data": {
            "text/plain": [
              "<matplotlib.image.AxesImage at 0x7f85e008be10>"
            ]
          },
          "metadata": {},
          "execution_count": 20
        },
        {
          "output_type": "display_data",
          "data": {
            "text/plain": [
              "<Figure size 432x288 with 1 Axes>"
            ],
            "image/png": "[encoded data removed]"
          },
          "metadata": {
            "needs_background": "light"
          }
        }
      ]
    },
    {
      "cell_type": "code",
      "metadata": {
        "id": "OrYTmFByqcN_",
        "colab": {
          "base_uri": "https://localhost:8080/"
        },
        "outputId": "48ec5858-0cc8-4d39-80f7-406f23360ce8"
      },
      "source": [
        "pred = model.predict(np.expand_dims(img, axis=0))[0]\n",
        "ind = (-pred).argsort()[:5]\n",
        "latex = [class_names[x] for x in ind]\n",
        "print(latex)"
      ],
      "execution_count": 21,
      "outputs": [
        {
          "output_type": "stream",
          "name": "stdout",
          "text": [
            "1/1 [==============================] - 0s 156ms/step\n",
            "['cloud', 'bread', 'anvil', 'pillow', 'coffee_cup']\n"
          ]
        }
      ]
    },
    {
      "cell_type": "markdown",
      "metadata": {
        "id": "YPp5D82YBhM-"
      },
      "source": [
        "# Speech Generation"
      ]
    },
    {
      "cell_type": "code",
      "source": [
        "# Import the required module for text\n",
        "# to speech conversion\n",
        "!pip install gTTS"
      ],
      "metadata": {
        "colab": {
          "base_uri": "https://localhost:8080/"
        },
        "id": "uflbf_4W-Wj5",
        "outputId": "32cc99bd-b167-4b4d-ae78-c60f255b69be"
      },
      "execution_count": 24,
      "outputs": [
        {
          "output_type": "stream",
          "name": "stdout",
          "text": [
            "Looking in indexes: https://pypi.org/simple, https://us-python.pkg.dev/colab-wheels/public/simple/\n",
            "Collecting gTTS\n",
            "  Downloading gTTS-2.2.4-py3-none-any.whl (26 kB)\n",
            "Requirement already satisfied: requests in /usr/local/lib/python3.7/dist-packages (from gTTS) (2.23.0)\n",
            "Requirement already satisfied: click in /usr/local/lib/python3.7/dist-packages (from gTTS) (7.1.2)\n",
            "Requirement already satisfied: six in /usr/local/lib/python3.7/dist-packages (from gTTS) (1.15.0)\n",
            "Requirement already satisfied: urllib3!=1.25.0,!=1.25.1,<1.26,>=1.21.1 in /usr/local/lib/python3.7/dist-packages (from requests->gTTS) (1.24.3)\n",
            "Requirement already satisfied: idna<3,>=2.5 in /usr/local/lib/python3.7/dist-packages (from requests->gTTS) (2.10)\n",
            "Requirement already satisfied: certifi>=2017.4.17 in /usr/local/lib/python3.7/dist-packages (from requests->gTTS) (2022.9.24)\n",
            "Requirement already satisfied: chardet<4,>=3.0.2 in /usr/local/lib/python3.7/dist-packages (from requests->gTTS) (3.0.4)\n",
            "Installing collected packages: gTTS\n",
            "Successfully installed gTTS-2.2.4\n"
          ]
        },
        {
          "output_type": "execute_result",
          "data": {
            "text/plain": [
              "32512"
            ]
          },
          "metadata": {},
          "execution_count": 24
        }
      ]
    },
    {
      "cell_type": "code",
      "source": [
        "from gtts import gTTS\n",
        "\n",
        "text_to_say = \"The object present in the image is \"+latex[0]\n",
        "\n",
        "language = \"en\"\n",
        "\n",
        "gtts_object = gTTS(text = text_to_say, \n",
        "                  lang = language,\n",
        "                  slow = False)\n",
        "\n",
        "gtts_object.save(\"/content/gtts.wav\")"
      ],
      "metadata": {
        "id": "UUjYqS47AVWo"
      },
      "execution_count": 38,
      "outputs": []
    },
    {
      "cell_type": "code",
      "source": [
        "from IPython.display import Audio\n",
        "\n",
        "Audio(\"/content/gtts.wav\")"
      ],
      "metadata": {
        "colab": {
          "base_uri": "https://localhost:8080/",
          "height": 76
        },
        "id": "8C3V_VARAqMZ",
        "outputId": "202bdd59-faba-4ef2-91c6-2745c8f3c706"
      },
      "execution_count": 39,
      "outputs": [
        {
          "output_type": "execute_result",
          "data": {
            "text/plain": [
              "<IPython.lib.display.Audio object>"
            ],
            "text/html": [
              "\n",
              "                <audio  controls=\"controls\" >\n",
              "                    <source src=\"data:audio/x-wav;base64,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\" type=\"audio/x-wav\" />\n",
              "                    Your browser does not support the audio element.\n",
              "                </audio>\n",
              "              "
            ]
          },
          "metadata": {},
          "execution_count": 39
        }
      ]
    },
    {
      "cell_type": "code",
      "source": [],
      "metadata": {
        "id": "Jhd1K-6CAshY"
      },
      "execution_count": null,
      "outputs": []
    }
  ]
}